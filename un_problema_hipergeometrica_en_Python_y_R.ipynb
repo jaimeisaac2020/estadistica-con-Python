{
  "nbformat": 4,
  "nbformat_minor": 0,
  "metadata": {
    "colab": {
      "provenance": [],
      "authorship_tag": "ABX9TyO07bNT5u66xRQUtc0djm45",
      "include_colab_link": true
    },
    "kernelspec": {
      "name": "python3",
      "display_name": "Python 3"
    },
    "language_info": {
      "name": "python"
    }
  },
  "cells": [
    {
      "cell_type": "markdown",
      "metadata": {
        "id": "view-in-github",
        "colab_type": "text"
      },
      "source": [
        "<a href=\"https://colab.research.google.com/github/jaimeisaac2020/estadistica-con-Python/blob/mi-github/un_problema_hipergeometrica_en_Python_y_R.ipynb\" target=\"_parent\"><img src=\"https://colab.research.google.com/assets/colab-badge.svg\" alt=\"Open In Colab\"/></a>"
      ]
    },
    {
      "cell_type": "markdown",
      "source": [
        "Una cantidad de 60 componentes electricas esta sujeta a un control\n",
        "de calidad. Se encontro que 48 de las componentes eran no defectuosas y las componentes\n",
        "que quedaban no lo estaban. Si una muestra aleatoria de 15 componentes\n",
        "es escogida de este lote, ¿cual es la probabilidad de que (a) exactamente 8, (b) por\n",
        "lo menos 9 de ellas no esten defectuosas?\n",
        "\n",
        "Ahora, resolvamos este problema en Python y en R.\n"
      ],
      "metadata": {
        "id": "GbUxdkYZI6VC"
      }
    },
    {
      "cell_type": "code",
      "source": [
        "from scipy.stats import hypergeom\n",
        "\n",
        "# Datos del problema\n",
        "total_componentes = 60\n",
        "componentes_no_defectuosas = 48\n",
        "tamano_muestra = 15\n",
        "\n",
        "# (a) Probabilidad de exactamente 8 componentes no defectuosas\n",
        "k_a = 8\n",
        "prob_a = hypergeom.pmf(k_a, total_componentes, componentes_no_defectuosas, tamano_muestra)\n",
        "print(f\"(a) Probabilidad de exactamente 8 componentes no defectuosas: {prob_a:.4f}\")\n",
        "\n",
        "# (b) Probabilidad de por lo menos 9 componentes no defectuosas\n",
        "prob_b = 1 - hypergeom.cdf(8, total_componentes, componentes_no_defectuosas, tamano_muestra - 1)\n",
        "print(f\"(b) Probabilidad de por lo menos 9 componentes no defectuosas: {prob_b:.4f}\")\n"
      ],
      "metadata": {
        "colab": {
          "base_uri": "https://localhost:8080/"
        },
        "id": "klZTzbzQI7JE",
        "outputId": "e809dbcf-3bfb-4840-dd56-0a75c21d0d7a"
      },
      "execution_count": 3,
      "outputs": [
        {
          "output_type": "stream",
          "name": "stdout",
          "text": [
            "(a) Probabilidad de exactamente 8 componentes no defectuosas: 0.0056\n",
            "(b) Probabilidad de por lo menos 9 componentes no defectuosas: 0.9762\n"
          ]
        }
      ]
    },
    {
      "cell_type": "markdown",
      "source": [
        "# Datos del problema y solucion en R\n",
        "total_componentes <- 60\n",
        "componentes_no_defectuosas <- 48\n",
        "tamano_muestra <- 15\n",
        "\n",
        "# (a) Probabilidad de exactamente 8 componentes no defectuosas\n",
        "k_a <- 8\n",
        "prob_a <- dhyper(k_a, total_componentes, componentes_no_defectuosas, tamano_muestra)\n",
        "cat(\"(a) Probabilidad de exactamente 8 componentes no defectuosas: \", format(prob_a, digits=4), \"\\n\")\n",
        "\n",
        "# (b) Probabilidad de por lo menos 9 componentes no defectuosas\n",
        "prob_b <- 1 - phyper(8, total_componentes, componentes_no_defectuosas, tamano_muestra - 1)\n",
        "cat(\"(b) Probabilidad de por lo menos 9 componentes no defectuosas: \", format(prob_b, digits=4), \"\\n\")\n"
      ],
      "metadata": {
        "id": "U0UIuC93KTWE"
      }
    }
  ]
}